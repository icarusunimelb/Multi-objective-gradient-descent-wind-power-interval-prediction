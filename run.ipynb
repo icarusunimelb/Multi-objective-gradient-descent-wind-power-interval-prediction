{
 "cells": [
  {
   "cell_type": "code",
   "execution_count": null,
   "id": "7998dfee",
   "metadata": {},
   "outputs": [],
   "source": [
    "from trainer import trainer"
   ]
  },
  {
   "cell_type": "code",
   "execution_count": null,
   "id": "b1773e72",
   "metadata": {},
   "outputs": [],
   "source": [
    "mlp_num_epoch = 200 \n",
    "rnn_num_epoch = 100\n",
    "mlp_trainer = trainer(modelType='MLP', num_task=1, num_epoch=mlp_num_epoch)\n",
    "mogd_mlp_trainer = trainer(modelType='MLP', num_task=2, num_epoch=mlp_num_epoch)\n",
    "lstm_trainer = trainer(modelType='LSTM', num_task=1, num_epoch=rnn_num_epoch )\n",
    "mogd_lstm_trainer = trainer(modelType='LSTM', num_task=2, num_epoch=rnn_num_epoch)\n",
    "snn_trainer = trainer(modelType='SNN', num_task=1, num_epoch=rnn_num_epoch)\n",
    "mogd_snn_trainer = trainer(modelType='SNN', num_task=2, num_epoch=rnn_num_epoch)\n",
    "trainer_list = [mlp_trainer, mogd_mlp_trainer, lstm_trainer, mogd_lstm_trainer, snn_trainer, mogd_snn_trainer]\n",
    "country_list = ['DE', 'ES', 'FR', 'GB']"
   ]
  },
  {
   "cell_type": "code",
   "execution_count": null,
   "id": "03777a90",
   "metadata": {},
   "outputs": [],
   "source": [
    "for trainer in trainer_list:\n",
    "    print('**************************************'+trainer.modelType+'_'+str(trainer.num_task)+'************************************')\n",
    "    for country in country_list: \n",
    "        print('**************************************'+country+'*******************************')\n",
    "        trainer.run(country=country)"
   ]
  },
  {
   "cell_type": "code",
   "execution_count": null,
   "id": "59499cb2",
   "metadata": {},
   "outputs": [],
   "source": []
  }
 ],
 "metadata": {
  "kernelspec": {
   "display_name": "Python 3 (ipykernel)",
   "language": "python",
   "name": "python3"
  },
  "language_info": {
   "codemirror_mode": {
    "name": "ipython",
    "version": 3
   },
   "file_extension": ".py",
   "mimetype": "text/x-python",
   "name": "python",
   "nbconvert_exporter": "python",
   "pygments_lexer": "ipython3",
   "version": "3.9.13"
  }
 },
 "nbformat": 4,
 "nbformat_minor": 5
}
